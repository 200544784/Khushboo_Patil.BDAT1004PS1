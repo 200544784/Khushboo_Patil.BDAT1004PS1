{
 "cells": [
  {
   "cell_type": "code",
   "execution_count": null,
   "id": "f7d297d9",
   "metadata": {},
   "outputs": [],
   "source": [
    "#Question 6 turn a word into pig-Latin using the following two rules (simplified):"
   ]
  },
  {
   "cell_type": "code",
   "execution_count": 82,
   "id": "a2fecc30",
   "metadata": {},
   "outputs": [],
   "source": [
    "def pig(text):\n",
    "    # Convert the word to lowercase\n",
    "    text = text.lower()\n",
    "\n",
    "    # Checking if the word starts with a vowel\n",
    "    if text[0] in 'aeiou':\n",
    "        return text + 'way'\n",
    "    else:\n",
    "        # Find the index of the 1st vowel\n",
    "        for index, letter in enumerate(text):\n",
    "            if letter in 'aeiou':\n",
    "                # Move the consonant cluster to the end and append 'ay'\n",
    "                return text[index:] + text[:index] + 'ay'"
   ]
  },
  {
   "cell_type": "code",
   "execution_count": 83,
   "id": "ba778aae",
   "metadata": {},
   "outputs": [
    {
     "data": {
      "text/plain": [
       "'adsay'"
      ]
     },
     "execution_count": 83,
     "metadata": {},
     "output_type": "execute_result"
    }
   ],
   "source": [
    "pig('sad')"
   ]
  },
  {
   "cell_type": "code",
   "execution_count": 34,
   "id": "1f1a1a00",
   "metadata": {},
   "outputs": [
    {
     "data": {
      "text/plain": [
       "'appyhay'"
      ]
     },
     "execution_count": 34,
     "metadata": {},
     "output_type": "execute_result"
    }
   ],
   "source": [
    "pig('happy')"
   ]
  },
  {
   "cell_type": "code",
   "execution_count": 35,
   "id": "550d21fb",
   "metadata": {},
   "outputs": [
    {
     "data": {
      "text/plain": [
       "'enterway'"
      ]
     },
     "execution_count": 35,
     "metadata": {},
     "output_type": "execute_result"
    }
   ],
   "source": [
    "pig('Enter')"
   ]
  },
  {
   "cell_type": "code",
   "execution_count": null,
   "id": "67e73fee",
   "metadata": {},
   "outputs": [],
   "source": [
    "#Question 7 File bloodtype1.txt records blood-types of patients (A, B, AB, O or OO) at a clinic. Write a function bldcount() that reads the file with name name and reports (i.e., prints)\n",
    "#how many patients there are in each bloodtype."
   ]
  },
  {
   "cell_type": "code",
   "execution_count": null,
   "id": "1f097ff8",
   "metadata": {},
   "outputs": [],
   "source": [
    "def bldcount(name):\n",
    "    # Create a dictionary to store the count of each blood type\n",
    "    blood_count = {'A': 0, 'B': 0, 'AB': 0, 'O': 0, 'OO' :0}\n",
    "\n",
    "    # Open the file and read its content\n",
    "    with open(name, 'r') as file:\n",
    "        lines = file.readlines()\n",
    "\n",
    "    \n",
    "    for line in lines:\n",
    "        # Omit the newline character from the end of the line using strip method\n",
    "        line = line.strip()\n",
    "\n",
    "        # If the line is not empty and is a valid blood type, increment its count in the dictionary\n",
    "        if line in blood_count:\n",
    "            blood_count[line] += 1\n",
    "\n",
    "    # Print the count of each blood type\n",
    "    for blood_type, count in blood_count.items():\n",
    "        print(f\"{blood_type}: {count}\")"
   ]
  },
  {
   "cell_type": "code",
   "execution_count": 31,
   "id": "719fd9cd",
   "metadata": {},
   "outputs": [
    {
     "name": "stdout",
     "output_type": "stream",
     "text": [
      "A: 11\n",
      "B: 0\n",
      "AB: 9\n",
      "O: 11\n",
      "OO: 0\n"
     ]
    }
   ],
   "source": [
    "bldcount('bloodtype1.txt')"
   ]
  },
  {
   "cell_type": "code",
   "execution_count": null,
   "id": "44f03de0",
   "metadata": {},
   "outputs": [],
   "source": [
    "#Question 8 Write a function curconv() that takes as input:\n",
    "#1.a currency represented using a string (e.g., 'JPY' for the Japanese Yen or 'EUR' for the Euro)\n",
    "#2.an amount and then converts and returns the amount in US dollars\n",
    "#https://stackoverflow.com/questions/68677268/validation-remove-currency-symbol-from-price"
   ]
  },
  {
   "cell_type": "code",
   "execution_count": 81,
   "id": "4db165f4",
   "metadata": {},
   "outputs": [],
   "source": [
    "def curconv(currency, amount):\n",
    "    # Initialize a dictionary to store currency rates\n",
    "    currency_rates = {}\n",
    "    \n",
    "\n",
    "    # Attempt to read currency rates from the file\n",
    "    try:\n",
    "        with open('currencies.txt', 'r') as file:\n",
    "            for line in file:\n",
    "                parts = line.split()\n",
    "                if len(parts) == 2:\n",
    "                    currency_code, exchange_rate = parts\n",
    "                    currency_rates[currency_code] = float(exchange_rate)\n",
    "    except FileNotFoundError:\n",
    "        return \"File 'currencies.txt' not found.\"\n",
    "\n",
    "    # Check if the given currency code exists in the dictionary\n",
    "    if currency in currency_rates:\n",
    "        # Convert the amount to US dollars and return the result\n",
    "        usd_amount = amount * currency_rates[currency]\n",
    "        return usd_amount\n",
    "    else:\n",
    "        return f\"Currency code '{currency}' not able to found in the exchange rates of currency.\"\n",
    "    converted_amount = curconv(currency, amount)\n",
    "    if isinstance(converted_amount, float):\n",
    "        print(f\"{amount} {currency} is equal to {converted_amount} USD\")\n",
    "    else:\n",
    "        print(converted_amount)\n"
   ]
  },
  {
   "cell_type": "code",
   "execution_count": 66,
   "id": "1ce17b4b",
   "metadata": {},
   "outputs": [
    {
     "data": {
      "text/plain": [
       "1.241401"
      ]
     },
     "execution_count": 66,
     "metadata": {},
     "output_type": "execute_result"
    }
   ],
   "source": [
    "\n",
    "curconv('JPY', 100)"
   ]
  },
  {
   "cell_type": "code",
   "execution_count": 67,
   "id": "668c794d",
   "metadata": {},
   "outputs": [
    {
     "data": {
      "text/plain": [
       "122.96544"
      ]
     },
     "execution_count": 67,
     "metadata": {},
     "output_type": "execute_result"
    }
   ],
   "source": [
    "curconv('EUR', 100)"
   ]
  },
  {
   "cell_type": "code",
   "execution_count": null,
   "id": "6b91447f",
   "metadata": {},
   "outputs": [],
   "source": [
    "#Question 9 Identify what type of exception each will cause."
   ]
  },
  {
   "cell_type": "code",
   "execution_count": 69,
   "id": "12acb747",
   "metadata": {},
   "outputs": [
    {
     "ename": "TypeError",
     "evalue": "unsupported operand type(s) for +: 'int' and 'str'",
     "output_type": "error",
     "traceback": [
      "\u001b[1;31m---------------------------------------------------------------------------\u001b[0m",
      "\u001b[1;31mTypeError\u001b[0m                                 Traceback (most recent call last)",
      "Cell \u001b[1;32mIn[69], line 1\u001b[0m\n\u001b[1;32m----> 1\u001b[0m \u001b[38;5;241m6\u001b[39m \u001b[38;5;241m+\u001b[39m \u001b[38;5;124m'\u001b[39m\u001b[38;5;124ma\u001b[39m\u001b[38;5;124m'\u001b[39m\n",
      "\u001b[1;31mTypeError\u001b[0m: unsupported operand type(s) for +: 'int' and 'str'"
     ]
    }
   ],
   "source": [
    " 6 + 'a'      # As a result it gives TypeError exception because while performing an operation that involves incompatible variable types,"
   ]
  },
  {
   "cell_type": "code",
   "execution_count": 71,
   "id": "55f1e22b",
   "metadata": {},
   "outputs": [
    {
     "ename": "IndexError",
     "evalue": "list index out of range",
     "output_type": "error",
     "traceback": [
      "\u001b[1;31m---------------------------------------------------------------------------\u001b[0m",
      "\u001b[1;31mIndexError\u001b[0m                                Traceback (most recent call last)",
      "Cell \u001b[1;32mIn[71], line 2\u001b[0m\n\u001b[0;32m      1\u001b[0m list_1 \u001b[38;5;241m=\u001b[39m [\u001b[38;5;241m1\u001b[39m, \u001b[38;5;241m2\u001b[39m, \u001b[38;5;241m3\u001b[39m, \u001b[38;5;241m4\u001b[39m, \u001b[38;5;241m5\u001b[39m, \u001b[38;5;241m6\u001b[39m, \u001b[38;5;241m7\u001b[39m, \u001b[38;5;241m8\u001b[39m, \u001b[38;5;241m9\u001b[39m, \u001b[38;5;241m10\u001b[39m]\n\u001b[1;32m----> 2\u001b[0m list_1[\u001b[38;5;241m12\u001b[39m]\n",
      "\u001b[1;31mIndexError\u001b[0m: list index out of range"
     ]
    }
   ],
   "source": [
    "list_1 = [1, 2, 3, 4, 5, 6, 7, 8, 9, 10]           # As a result it gives Index error exception as there is no 12th element in the list exceeding with the range of list \n",
    "list_1[12]"
   ]
  },
  {
   "cell_type": "code",
   "execution_count": 74,
   "id": "89e22183",
   "metadata": {},
   "outputs": [
    {
     "ename": "ValueError",
     "evalue": "math domain error",
     "output_type": "error",
     "traceback": [
      "\u001b[1;31m---------------------------------------------------------------------------\u001b[0m",
      "\u001b[1;31mValueError\u001b[0m                                Traceback (most recent call last)",
      "Cell \u001b[1;32mIn[74], line 1\u001b[0m\n\u001b[1;32m----> 1\u001b[0m val1 \u001b[38;5;241m=\u001b[39m math\u001b[38;5;241m.\u001b[39msqrt(\u001b[38;5;241m-\u001b[39m\u001b[38;5;241m1.0\u001b[39m)\n",
      "\u001b[1;31mValueError\u001b[0m: math domain error"
     ]
    }
   ],
   "source": [
    "val1 = math.sqrt(-1.0)      #As a result it gives ValueError exception because taking the square root of a negative number is mathematically undefined."
   ]
  },
  {
   "cell_type": "code",
   "execution_count": 75,
   "id": "2d700946",
   "metadata": {},
   "outputs": [
    {
     "ename": "NameError",
     "evalue": "name 'x' is not defined",
     "output_type": "error",
     "traceback": [
      "\u001b[1;31m---------------------------------------------------------------------------\u001b[0m",
      "\u001b[1;31mNameError\u001b[0m                                 Traceback (most recent call last)",
      "Cell \u001b[1;32mIn[75], line 1\u001b[0m\n\u001b[1;32m----> 1\u001b[0m \u001b[38;5;28mprint\u001b[39m(x)\n",
      "\u001b[1;31mNameError\u001b[0m: name 'x' is not defined"
     ]
    }
   ],
   "source": [
    "print(x)             #As a result it gives NameError exception because   'x' because it has not been declared or defined in the current scope."
   ]
  },
  {
   "cell_type": "code",
   "execution_count": 76,
   "id": "863ddfc7",
   "metadata": {},
   "outputs": [
    {
     "ename": "FileNotFoundError",
     "evalue": "[Errno 2] No such file or directory: 'file.txt'",
     "output_type": "error",
     "traceback": [
      "\u001b[1;31m---------------------------------------------------------------------------\u001b[0m",
      "\u001b[1;31mFileNotFoundError\u001b[0m                         Traceback (most recent call last)",
      "Cell \u001b[1;32mIn[76], line 1\u001b[0m\n\u001b[1;32m----> 1\u001b[0m \u001b[38;5;28;01mwith\u001b[39;00m \u001b[38;5;28mopen\u001b[39m(\u001b[38;5;124m'\u001b[39m\u001b[38;5;124mfile.txt\u001b[39m\u001b[38;5;124m'\u001b[39m, \u001b[38;5;124m'\u001b[39m\u001b[38;5;124mr\u001b[39m\u001b[38;5;124m'\u001b[39m) \u001b[38;5;28;01mas\u001b[39;00m file:\n\u001b[0;32m      3\u001b[0m     content \u001b[38;5;241m=\u001b[39m file\u001b[38;5;241m.\u001b[39mread()\n",
      "File \u001b[1;32m~\\anaconda3\\Lib\\site-packages\\IPython\\core\\interactiveshell.py:286\u001b[0m, in \u001b[0;36m_modified_open\u001b[1;34m(file, *args, **kwargs)\u001b[0m\n\u001b[0;32m    279\u001b[0m \u001b[38;5;28;01mif\u001b[39;00m file \u001b[38;5;129;01min\u001b[39;00m {\u001b[38;5;241m0\u001b[39m, \u001b[38;5;241m1\u001b[39m, \u001b[38;5;241m2\u001b[39m}:\n\u001b[0;32m    280\u001b[0m     \u001b[38;5;28;01mraise\u001b[39;00m \u001b[38;5;167;01mValueError\u001b[39;00m(\n\u001b[0;32m    281\u001b[0m         \u001b[38;5;124mf\u001b[39m\u001b[38;5;124m\"\u001b[39m\u001b[38;5;124mIPython won\u001b[39m\u001b[38;5;124m'\u001b[39m\u001b[38;5;124mt let you open fd=\u001b[39m\u001b[38;5;132;01m{\u001b[39;00mfile\u001b[38;5;132;01m}\u001b[39;00m\u001b[38;5;124m by default \u001b[39m\u001b[38;5;124m\"\u001b[39m\n\u001b[0;32m    282\u001b[0m         \u001b[38;5;124m\"\u001b[39m\u001b[38;5;124mas it is likely to crash IPython. If you know what you are doing, \u001b[39m\u001b[38;5;124m\"\u001b[39m\n\u001b[0;32m    283\u001b[0m         \u001b[38;5;124m\"\u001b[39m\u001b[38;5;124myou can use builtins\u001b[39m\u001b[38;5;124m'\u001b[39m\u001b[38;5;124m open.\u001b[39m\u001b[38;5;124m\"\u001b[39m\n\u001b[0;32m    284\u001b[0m     )\n\u001b[1;32m--> 286\u001b[0m \u001b[38;5;28;01mreturn\u001b[39;00m io_open(file, \u001b[38;5;241m*\u001b[39margs, \u001b[38;5;241m*\u001b[39m\u001b[38;5;241m*\u001b[39mkwargs)\n",
      "\u001b[1;31mFileNotFoundError\u001b[0m: [Errno 2] No such file or directory: 'file.txt'"
     ]
    }
   ],
   "source": [
    "with open('file.txt', 'r') as file:   # As a result it gives FileNotFoundError exception because it is unable to locate the specified file at the provided path.\n",
    "    \n",
    "    content = file.read()\n"
   ]
  },
  {
   "cell_type": "code",
   "execution_count": null,
   "id": "aea5831e",
   "metadata": {},
   "outputs": [],
   "source": [
    "#Question 10 Encrypting string to integers"
   ]
  },
  {
   "cell_type": "code",
   "execution_count": 80,
   "id": "5639b7a2",
   "metadata": {},
   "outputs": [],
   "source": [
    "def frequencies(text):\n",
    "    # Define the 'letters' string\n",
    "    text = 'abcdefghijklmnopqrstuvwxyz'\n",
    "    \n",
    "    # Create a dictionary to store character frequencies\n",
    "    char_count = {letter: 0 for letter in text}\n",
    "    \n",
    "    # Convert the input text to lowercase to make it case-insensitive\n",
    "    word = word.lower()\n",
    "    \n",
    "    # Iterate characters in the text\n",
    "    for char in word:\n",
    "        # Check if the character is in the 'letters' string\n",
    "        if char in text:\n",
    "            # Increment the count for letters\n",
    "            char_count[char] += 1\n",
    "    \n",
    "    # Convert the dictionary values to a list of integers\n",
    "    frequencies_list = list(char_count.values())\n",
    "    \n",
    "    return frequencies_list"
   ]
  },
  {
   "cell_type": "code",
   "execution_count": 79,
   "id": "8cb46a7b",
   "metadata": {},
   "outputs": [
    {
     "data": {
      "text/plain": [
       "[1, 1, 1, 3, 5, 1, 1, 2, 1, 0, 1, 0, 1, 2, 4, 0, 1, 2, 0, 3, 1, 0, 1, 1, 0, 0]"
      ]
     },
     "execution_count": 79,
     "metadata": {},
     "output_type": "execute_result"
    }
   ],
   "source": [
    "frequencies('The quick red fox got bored and went home.')"
   ]
  },
  {
   "cell_type": "code",
   "execution_count": null,
   "id": "333bcc77",
   "metadata": {},
   "outputs": [],
   "source": []
  }
 ],
 "metadata": {
  "kernelspec": {
   "display_name": "Python 3 (ipykernel)",
   "language": "python",
   "name": "python3"
  },
  "language_info": {
   "codemirror_mode": {
    "name": "ipython",
    "version": 3
   },
   "file_extension": ".py",
   "mimetype": "text/x-python",
   "name": "python",
   "nbconvert_exporter": "python",
   "pygments_lexer": "ipython3",
   "version": "3.11.5"
  }
 },
 "nbformat": 4,
 "nbformat_minor": 5
}
